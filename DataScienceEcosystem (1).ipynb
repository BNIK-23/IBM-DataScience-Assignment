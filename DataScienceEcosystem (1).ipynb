{
 "cells": [
  {
   "cell_type": "markdown",
   "id": "0b56f98e-dd11-47b5-babf-a38a912fb9f9",
   "metadata": {},
   "source": [
    "# H1:Data Science Tools and Ecosystem"
   ]
  },
  {
   "cell_type": "markdown",
   "id": "82201784-16ba-439d-b2e4-0f1576fc5da7",
   "metadata": {},
   "source": [
    "In this notebook, Data Science Tools are Ecosystem are summarised"
   ]
  },
  {
   "cell_type": "markdown",
   "id": "fdcf96a2-5ad6-4886-a797-ad26c2dae1ae",
   "metadata": {},
   "source": [
    "**Objectives:**\n",
    "+ List of popular languages for data science\n",
    "+ List of popular libraries for data science\n",
    "+ Application of Jupyter notebook for arithmetic operations\n"
   ]
  },
  {
   "cell_type": "markdown",
   "id": "f865bf85-2750-4542-b192-b892a6d1f122",
   "metadata": {},
   "source": [
    "Some of the popular languages used by data scientists are:\n",
    "1. Python\n",
    "2. R\n",
    "3. Julia"
   ]
  },
  {
   "cell_type": "markdown",
   "id": "041dda1b-42b7-4468-beb1-489ee9f55188",
   "metadata": {},
   "source": [
    "Some of the commonly used libraries used by data scientists are:\n",
    "1. Pandas\n",
    "2. Matplotlib\n",
    "3. Numpy"
   ]
  },
  {
   "cell_type": "markdown",
   "id": "b91f8dd0-3154-4cff-ba0b-bc1d932b856b",
   "metadata": {},
   "source": [
    "| Data Science Tools |\n",
    "| ------------------ |\n",
    "| Jupyter            |\n",
    "| Cassandra          |\n",
    "| MySQL              |\n"
   ]
  },
  {
   "cell_type": "markdown",
   "id": "bbb41ac4-bd9c-42ca-9456-0ed0920c90ee",
   "metadata": {},
   "source": [
    "# H3: Below are a few examples of evaluating arithmetic expressions in python:"
   ]
  },
  {
   "cell_type": "code",
   "execution_count": 1,
   "id": "4310b14b-6e42-4f84-8b4b-be22eb2f28e1",
   "metadata": {
    "tags": []
   },
   "outputs": [
    {
     "data": {
      "text/plain": [
       "17"
      ]
     },
     "execution_count": 1,
     "metadata": {},
     "output_type": "execute_result"
    }
   ],
   "source": [
    "# A simple arithmetic expression to multiply and then add integers\n",
    "\n",
    "(3*4) + 5"
   ]
  },
  {
   "cell_type": "code",
   "execution_count": 5,
   "id": "05805832-5697-4131-88a1-90333da65f19",
   "metadata": {
    "tags": []
   },
   "outputs": [
    {
     "name": "stdout",
     "output_type": "stream",
     "text": [
      "3.3333333333333335\n"
     ]
    }
   ],
   "source": [
    "# This will convert 200minutes to hours by dividing by 60\n",
    "\n",
    "minutes = 200\n",
    "conversion_factor = 60\n",
    "hours = minutes/conversion_factor\n",
    "print(hours)"
   ]
  },
  {
   "cell_type": "markdown",
   "id": "0ee56864-050a-4ce8-a27d-eb2fe40f7096",
   "metadata": {},
   "source": [
    "# H2: Author\n",
    "      Boifang"
   ]
  },
  {
   "cell_type": "code",
   "execution_count": null,
   "id": "2f73a435-8ac0-4943-90f9-155081333db0",
   "metadata": {},
   "outputs": [],
   "source": []
  }
 ],
 "metadata": {
  "kernelspec": {
   "display_name": "Python",
   "language": "python",
   "name": "conda-env-python-py"
  },
  "language_info": {
   "codemirror_mode": {
    "name": "ipython",
    "version": 3
   },
   "file_extension": ".py",
   "mimetype": "text/x-python",
   "name": "python",
   "nbconvert_exporter": "python",
   "pygments_lexer": "ipython3",
   "version": "3.7.12"
  }
 },
 "nbformat": 4,
 "nbformat_minor": 5
}
